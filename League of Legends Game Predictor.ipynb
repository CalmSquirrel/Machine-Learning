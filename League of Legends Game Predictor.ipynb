{
 "cells": [
  {
   "cell_type": "markdown",
   "metadata": {},
   "source": [
    "# League of Legends Game Predictor"
   ]
  },
  {
   "cell_type": "markdown",
   "metadata": {},
   "source": [
    "This project is to predict who would win in a professional game of League of Legends depending on the first fifteen minutes of a game. League of Legends is a multiplayer online battle arena (MOBA) where five players play against 5 other players. Each player chooses one of 139 champions. The map is split into three lanes that are named based on their location: top, mid, bot. The area between the lanes is considered the jungle. Gold is acquired through multiple ways throughout the game and is used to buy items that usually helps with dealing damage to other players. To win the game, one team must defeat the nexus in the other team's base. In order to get to the nexus, all turrets and inhibitors must be destroyed in one lane. In the jungle there are objectives, like dragons, barons, and rift herald, that you can take to boost team stats for either a permanent or temporary advantage. A couple different approaches were taken to see if there was an optimal way to process the data."
   ]
  },
  {
   "cell_type": "code",
   "execution_count": 1,
   "metadata": {},
   "outputs": [
    {
     "name": "stderr",
     "output_type": "stream",
     "text": [
      "Using TensorFlow backend.\n"
     ]
    }
   ],
   "source": [
    "import numpy as np\n",
    "import matplotlib\n",
    "import matplotlib.pyplot as plt\n",
    "import pandas as pd\n",
    "import keras\n",
    "from keras.models import Model, Sequential\n",
    "from keras.layers import Dense, Activation\n",
    "import keras.backend as K\n",
    "from keras import optimizers\n",
    "from sklearn.model_selection import train_test_split\n",
    "from sklearn import preprocessing\n",
    "from sklearn import linear_model\n",
    "from sklearn import svm\n",
    "K.clear_session()"
   ]
  },
  {
   "cell_type": "markdown",
   "metadata": {},
   "source": [
    "This function was made to grab data from a csv file. The function converts a string of numbers into an array of float data points. We did this because when we imported the csv data into a dataframe our cells were strings."
   ]
  },
  {
   "cell_type": "code",
   "execution_count": 2,
   "metadata": {
    "collapsed": true
   },
   "outputs": [],
   "source": [
    "def grabData(strArray):\n",
    "    resultArray = []\n",
    "    stringValue = \"\"\n",
    "    for i in strArray:\n",
    "        if i != '[' and i != ']' and i != ' ':\n",
    "            if i != ',':\n",
    "                stringValue+=i\n",
    "            else:\n",
    "                resultArray.append(float(\"\".join(stringValue)))\n",
    "                stringValue = \"\"\n",
    "    return resultArray"
   ]
  },
  {
   "cell_type": "markdown",
   "metadata": {},
   "source": [
    "This function was used to grab the first fifteen minutes of data of an array. If there are no values for certain objectives at 15 minutes then we pad with zeros. We do this because it is not uncommon to have no values for certain features at 15 minutes. For example, there can be many games where there is no dragon taken at 15 minutes of the game because the game could be very evenly matched. "
   ]
  },
  {
   "cell_type": "code",
   "execution_count": 3,
   "metadata": {
    "collapsed": true
   },
   "outputs": [],
   "source": [
    "def grabFirstFifteen(grabData, dataArray):\n",
    "    FirstFifteen = np.zeros(15)\n",
    "    for i in dataArray:\n",
    "        Temp = grabData(i)[0:15]\n",
    "        if len(Temp) == 0:\n",
    "            Temp = np.zeros(15)\n",
    "        elif len(Temp) < 15:\n",
    "            Temp = np.pad(Temp, (0, 15-len(Temp)), 'constant', constant_values = 0)\n",
    "        FirstFifteen = np.vstack((FirstFifteen, Temp))\n",
    "    FirstFifteen = np.delete(FirstFifteen, 0, 0)\n",
    "    return FirstFifteen"
   ]
  },
  {
   "cell_type": "markdown",
   "metadata": {},
   "source": [
    "This function returns the number of objectives taken before 15 minutes when you input an array of times. We take the array generated from the previous function to get the count of how many objectives were taken. The data from the csv is represented as time stamps of when the each objective is taken, so we replace the time stamps with 1s and 0s. We then sum each row to get the number of objectives taken for each game."
   ]
  },
  {
   "cell_type": "code",
   "execution_count": 4,
   "metadata": {
    "collapsed": true
   },
   "outputs": [],
   "source": [
    "def countArray(array):\n",
    "    padded= grabFirstFifteen(grabData, array)\n",
    "    np.place(padded, padded == 0, [50])\n",
    "    np.place(padded, padded <= 15, [1])\n",
    "    np.place(padded, padded > 15, [0])\n",
    "    num = np.sum(padded, axis = 1)\n",
    "    return num"
   ]
  },
  {
   "cell_type": "markdown",
   "metadata": {},
   "source": [
    "This function was used to find the win rate of a champion depending on the lane that they were played in. Out of the 139 champions playable, there are a handful of champions that are considered \"meta\" and are frequently played. From these frequently played champions we can get their win rates and use that as a feature to measure trends in champion selection."
   ]
  },
  {
   "cell_type": "code",
   "execution_count": 5,
   "metadata": {
    "collapsed": true
   },
   "outputs": [],
   "source": [
    "def champWinRate(laneChamps, result):\n",
    "    winRate = 0\n",
    "    uniqueChampNames = np.unique(laneChamps, return_index=False)\n",
    "    numWins = np.zeros(len(uniqueChampNames))\n",
    "    timesPlayed = np.zeros(len(uniqueChampNames))\n",
    "    ChampWinRate = []\n",
    "    for i in range(0, len(uniqueChampNames)):\n",
    "        for j in range(0, len(laneChamps)):\n",
    "            if uniqueChampNames[i] == laneChamps[j]:\n",
    "                timesPlayed[i]+=1\n",
    "                if result[j] == 1:\n",
    "                    numWins[i]+=1\n",
    "    winRate = numWins / timesPlayed\n",
    "    for i in range(0, len(laneChamps)):\n",
    "        for j in range(0, len(uniqueChampNames)):\n",
    "            if uniqueChampNames[j] == laneChamps[i]:\n",
    "                ChampWinRate = np.append(ChampWinRate, winRate[j])\n",
    "    return ChampWinRate"
   ]
  },
  {
   "cell_type": "markdown",
   "metadata": {},
   "source": [
    "The following code parses throught the data to get what was needed. The paramters that were wanted were the times Turrets, Inhibitors, Dragons, and Rift Heralds. In the game there is an objective called Baron, but it spawns at fifteen minutes, therefore it is not taken into account. The champions played each game were used to find the win rate of a champion.\n",
    "\n",
    "Any game with the champion Azir would be omitted because of his passive skill that temporarily ressurects any destroyed turrets. This turret would not grant any significant amount of gold and is only used as a temporary defense, but it counted as a destroyed turret in our data set."
   ]
  },
  {
   "cell_type": "code",
   "execution_count": 6,
   "metadata": {
    "collapsed": true
   },
   "outputs": [],
   "source": [
    "LoL = pd.read_csv('_LeagueofLegends.csv')\n",
    "LoL = LoL[LoL.redMiddleChamp != 'Azir']\n",
    "LoL = LoL[LoL.blueMiddleChamp != 'Azir']\n",
    "goldDiff15 = grabFirstFifteen(grabData, np.array(LoL['golddiff'])) #blueteam - redteam\n",
    "\n",
    "NumBlueHeralds=countArray(np.array(LoL['bHeralds']))\n",
    "NumRedHeralds=countArray(np.array(LoL['rHeralds']))\n",
    "NumRedDragons=countArray(np.array(LoL['rDragons']))\n",
    "NumBlueDragons=countArray(np.array(LoL['bDragons']))\n",
    "NumRedInhibs=countArray(np.array(LoL['rInhibs']))\n",
    "NumBlueInhibs=countArray(np.array(LoL['bInhibs']))\n",
    "NumRedTowers =countArray(np.array(LoL['rTowers']))\n",
    "NumBlueTowers =countArray(np.array(LoL['bTowers']))\n",
    "blueResult = np.array(LoL['bResult'])\n",
    "goldBlueMid = countArray(np.array(LoL['goldblueMiddle']))\n",
    "goldBlueTop = countArray(np.array(LoL['goldblueTop']))\n",
    "goldBlueJung = countArray(np.array(LoL['goldblueJungle']))\n",
    "goldBlueADC = countArray(np.array(LoL['goldblueADC']))\n",
    "goldBlueSupp = countArray(np.array(LoL['goldblueSupport']))\n",
    "\n",
    "blueJungChamps = np.array(LoL['blueJungleChamp'])\n",
    "blueMidChamps = np.array(LoL['blueMiddleChamp'])\n",
    "blueADCChamps = np.array(LoL['blueADCChamp'])\n",
    "blueSupChamps = np.array(LoL['blueSupportChamp'])\n",
    "blueTopChamps = np.array(LoL['blueTopChamp'])\n",
    "\n",
    "redJungChamps = np.array(LoL['redJungleChamp'])\n",
    "redMidChamps = np.array(LoL['redMiddleChamp'])\n",
    "redADCChamps = np.array(LoL['redADCChamp'])\n",
    "redSupChamps = np.array(LoL['redSupportChamp'])\n",
    "redTopChamps = np.array(LoL['redTopChamp'])\n",
    "\n",
    "blueJungWinRate = champWinRate(blueJungChamps, blueResult)\n",
    "redJungWinRate = champWinRate(redJungChamps, blueResult)\n",
    "blueMidWinRate = champWinRate(blueMidChamps, blueResult)\n",
    "redMidWinRate = champWinRate(redMidChamps, blueResult)\n",
    "blueAdcWinRate = champWinRate(blueADCChamps, blueResult)\n",
    "redAdcWinRate = champWinRate(redADCChamps, blueResult)\n",
    "blueSupWinRate = champWinRate(blueSupChamps, blueResult)\n",
    "redSupWinRate = champWinRate(redSupChamps, blueResult)\n",
    "blueTopWinRate = champWinRate(blueTopChamps, blueResult)\n",
    "redTopWinRate = champWinRate(redTopChamps, blueResult)"
   ]
  },
  {
   "cell_type": "markdown",
   "metadata": {},
   "source": [
    "The data was separated into training and testing data. This data seperation does not include the gold difference at 15 minutes between the two teams."
   ]
  },
  {
   "cell_type": "code",
   "execution_count": 7,
   "metadata": {
    "collapsed": true
   },
   "outputs": [],
   "source": [
    "ntr = 3128\n",
    "nts = 100\n",
    "\n",
    "permIndex = np.random.permutation(ntr+nts)\n",
    "goldDiffTr = preprocessing.scale(goldDiff15[permIndex[0:ntr]])\n",
    "goldDiffTs = preprocessing.scale(goldDiff15[permIndex[ntr:]])\n",
    "\n",
    "data=np.column_stack([NumBlueTowers, NumBlueInhibs, NumBlueDragons, NumBlueHeralds,\n",
    "    NumRedTowers, NumRedInhibs, NumRedDragons, NumRedHeralds,blueMidWinRate,\n",
    "    blueJungWinRate, blueAdcWinRate, blueSupWinRate, blueTopWinRate,\n",
    "    redMidWinRate, redJungWinRate, redAdcWinRate, redSupWinRate, redTopWinRate])\n",
    "datatr = data[permIndex[0:ntr]]\n",
    "datats = data[permIndex[ntr:]]\n",
    "ytr = blueResult[permIndex[0:ntr]]\n",
    "yts = blueResult[permIndex[ntr:]]"
   ]
  },
  {
   "cell_type": "markdown",
   "metadata": {},
   "source": [
    "# Neural Network Into Logistic Regression"
   ]
  },
  {
   "cell_type": "markdown",
   "metadata": {},
   "source": [
    "The first approach to this project was to put the gold difference of the first 15 minutes into a neural network with a binary classifier. The output of this was then used together with all of the other features in a logistic regression. This seemed logical because sometimes the shape of the gold curve can be more important than the gold values themselves."
   ]
  },
  {
   "cell_type": "code",
   "execution_count": 8,
   "metadata": {
    "collapsed": true
   },
   "outputs": [],
   "source": [
    "numfit = 20\n",
    "nin = goldDiffTr.shape[1]  # dimension of input data\n",
    "nh = 200 # number of hidden units\n",
    "nout = 1    # number of outputs\n",
    "model = Sequential()\n",
    "model.add(Dense(nh, input_shape=(nin,), activation = 'sigmoid', name='hidden'))\n",
    "model.add(Dense(nout, activation='hard_sigmoid', name='output'))\n",
    "\n",
    "opt = optimizers.Adam(lr = 0.001)\n",
    "model.compile(optimizer=opt,loss='binary_crossentropy',metrics=['accuracy'])\n",
    "for i in range(numfit):\n",
    "    model.fit(goldDiffTr, ytr, epochs=10, batch_size=100, validation_data=(goldDiffTs,yts), verbose = 0)\n",
    "yhattr = model.predict(goldDiffTr)\n",
    "yhatts = model.predict(goldDiffTs)"
   ]
  },
  {
   "cell_type": "code",
   "execution_count": 9,
   "metadata": {},
   "outputs": [
    {
     "name": "stdout",
     "output_type": "stream",
     "text": [
      "Accuracy of LogReg:  83.0\n"
     ]
    }
   ],
   "source": [
    "datatr = np.column_stack([datatr, yhattr])\n",
    "datats = np.column_stack([datats, yhatts])\n",
    "datatr = preprocessing.scale(datatr)\n",
    "datats = preprocessing.scale(datats)\n",
    "regr = linear_model.LogisticRegression()\n",
    "regr.fit(datatr,ytr)\n",
    "yhat2=regr.predict(datats)\n",
    "count=0\n",
    "for i in range(0, len(yts)):\n",
    "    if yhat2[i]==yts[i]:\n",
    "        count+=1\n",
    "acc = np.sum(count)/yts.shape[0]\n",
    "print(\"Accuracy of LogReg: \", acc*100)"
   ]
  },
  {
   "cell_type": "markdown",
   "metadata": {},
   "source": [
    "# Neural Network into SVM"
   ]
  },
  {
   "cell_type": "markdown",
   "metadata": {},
   "source": [
    "Another approach was to take the output from the neural network into an SVM instead of a logistic regression."
   ]
  },
  {
   "cell_type": "code",
   "execution_count": 10,
   "metadata": {},
   "outputs": [
    {
     "name": "stdout",
     "output_type": "stream",
     "text": [
      "[LibSVM]SVM Acc: 84.000000\n"
     ]
    }
   ],
   "source": [
    "svc = svm.SVC(probability=False,  kernel=\"rbf\", C=2.8, gamma=.0073,verbose=10)\n",
    "svc.fit(datatr, ytr)\n",
    "yhatsvm = svc.predict(datats)\n",
    "svmacc = np.mean(yhatsvm == yts)\n",
    "print('SVM Acc: {0:f}'.format(svmacc*100))"
   ]
  },
  {
   "cell_type": "markdown",
   "metadata": {},
   "source": [
    "# Only Nerual Network"
   ]
  },
  {
   "cell_type": "markdown",
   "metadata": {},
   "source": [
    "We also tried putting all of the paramters into one nerual network. We used the gold difference at 15 minutes as a direct parameter, with the other features, into the neural network. "
   ]
  },
  {
   "cell_type": "code",
   "execution_count": 11,
   "metadata": {},
   "outputs": [
    {
     "name": "stdout",
     "output_type": "stream",
     "text": [
      "Accuracy Neural Net:  84.0\n"
     ]
    }
   ],
   "source": [
    "data=np.column_stack([NumBlueTowers, NumBlueInhibs, NumBlueDragons, NumBlueHeralds,\n",
    "    NumRedTowers, NumRedInhibs, NumRedDragons, NumRedHeralds,\n",
    "    blueMidWinRate, blueJungWinRate, blueAdcWinRate, blueSupWinRate, blueTopWinRate,\n",
    "    redMidWinRate, redJungWinRate, redAdcWinRate, redSupWinRate, redTopWinRate,\n",
    "    goldDiff15])\n",
    "\n",
    "datascaled = preprocessing.scale(data)\n",
    "Xtr = datascaled[permIndex[0:ntr]]\n",
    "Xts = datascaled[permIndex[ntr:]]\n",
    "ytr = blueResult[permIndex[0:ntr]]\n",
    "yts = blueResult[permIndex[ntr:]]\n",
    "numfit = 20\n",
    "nin = Xtr.shape[1]  # dimension of input data\n",
    "nh = 200 # number of hidden units\n",
    "nout = 1    # number of outputs\n",
    "model = Sequential()\n",
    "model.add(Dense(nh, input_shape=(nin,), activation = 'sigmoid', name='hidden'))\n",
    "model.add(Dense(nout, activation='hard_sigmoid', name='output'))\n",
    "\n",
    "opt = optimizers.Adam(lr = 0.001)\n",
    "model.compile(optimizer=opt,loss='binary_crossentropy',metrics=['accuracy'])\n",
    "for i in range(numfit):\n",
    "    model.fit(Xtr, ytr, epochs=10, batch_size=100, validation_data=(Xts,yts), verbose = 0)\n",
    "yhat = model.predict(Xts)\n",
    "\n",
    "np.place(yhat, yhat >= 0.5, [1])\n",
    "np.place(yhat, yhat <0.5, [0])\n",
    "yhat = np.ravel(yhat)\n",
    "accuracyNN = np.mean(yhat == yts)\n",
    "print(\"Accuracy Neural Net: \", accuracyNN*100)"
   ]
  },
  {
   "cell_type": "markdown",
   "metadata": {},
   "source": [
    "# Only SVM"
   ]
  },
  {
   "cell_type": "markdown",
   "metadata": {},
   "source": [
    "Another approach was to put all of the features directly into an SVM classifier."
   ]
  },
  {
   "cell_type": "code",
   "execution_count": 12,
   "metadata": {},
   "outputs": [
    {
     "name": "stdout",
     "output_type": "stream",
     "text": [
      "[LibSVM]SVM Acc: 82.000000\n"
     ]
    }
   ],
   "source": [
    "svc = svm.SVC(probability=False,  kernel=\"rbf\", C=2.8, gamma=.0073,verbose=10)\n",
    "svc.fit(Xtr, ytr)\n",
    "yhatsvm = svc.predict(Xts)\n",
    "svmacc = np.mean(yhatsvm == yts)\n",
    "print('SVM Acc: {0:f}'.format(svmacc*100))"
   ]
  },
  {
   "cell_type": "markdown",
   "metadata": {},
   "source": [
    "# Only Logistic Regression"
   ]
  },
  {
   "cell_type": "markdown",
   "metadata": {},
   "source": [
    "The last approach taken was to put all of the data into a logistic regression."
   ]
  },
  {
   "cell_type": "code",
   "execution_count": 13,
   "metadata": {},
   "outputs": [
    {
     "name": "stdout",
     "output_type": "stream",
     "text": [
      "Accuracy of LogReg:  82.0\n"
     ]
    }
   ],
   "source": [
    "regr = linear_model.LogisticRegression()\n",
    "regr.fit(Xtr,ytr)\n",
    "yhat2=regr.predict(Xts)\n",
    "count=0\n",
    "for i in range(0, len(yts)):\n",
    "    if yhat2[i]==yts[i]:\n",
    "        count+=1\n",
    "acc = np.sum(count)/yts.shape[0]\n",
    "print(\"Accuracy of LogReg: \", acc*100)"
   ]
  },
  {
   "cell_type": "markdown",
   "metadata": {},
   "source": [
    "# Conclusion"
   ]
  },
  {
   "cell_type": "markdown",
   "metadata": {},
   "source": [
    "Each classification method produces very similar accuracies. The lowest accuracy we get is around 75%. The highest accruacy that was obtained was 85%. This is to be expected since there are many games where the team with a lead isn't able to press their advantage into a victory. There is also the problem where the team with the early disadvantage performs better later in the game due to late game advantages, better teamwork, better shotcalling, team composition etc. Because of the reasons listed, a 75-85% accuracy is pretty decent because humans are playing the game, not robots that would make perfect decisions throughout the game. Of all the approaches taken with this project, none of them seemed to be better than the others."
   ]
  }
 ],
 "metadata": {
  "kernelspec": {
   "display_name": "Python 3",
   "language": "python",
   "name": "python3"
  },
  "language_info": {
   "codemirror_mode": {
    "name": "ipython",
    "version": 3
   },
   "file_extension": ".py",
   "mimetype": "text/x-python",
   "name": "python",
   "nbconvert_exporter": "python",
   "pygments_lexer": "ipython3",
   "version": "3.6.1"
  }
 },
 "nbformat": 4,
 "nbformat_minor": 2
}
